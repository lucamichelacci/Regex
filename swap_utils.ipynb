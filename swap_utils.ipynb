{
 "cells": [
  {
   "cell_type": "markdown",
   "id": "1a111146-2ada-4eec-a2af-14318a7b7a8e",
   "metadata": {},
   "source": [
    "#### SWAP UTILS"
   ]
  },
  {
   "cell_type": "code",
   "execution_count": 1,
   "id": "13905821-4ae0-4512-990f-0c7b4e28f192",
   "metadata": {},
   "outputs": [],
   "source": [
    "import os\n",
    "import sys\n",
    "os.chdir(os.path.dirname(sys.argv[0]))"
   ]
  },
  {
   "cell_type": "code",
   "execution_count": 2,
   "id": "cd0f0803-13c4-4961-8245-a2c3000fbefe",
   "metadata": {},
   "outputs": [],
   "source": [
    "import numpy as np\n",
    "from scipy.optimize import minimize\n",
    "from numbers import Real"
   ]
  },
  {
   "cell_type": "markdown",
   "id": "5ba6c3c1-e70c-4f70-89fc-73611fdac7a7",
   "metadata": {},
   "source": [
    "#### TIME UTILS"
   ]
  },
  {
   "cell_type": "code",
   "execution_count": 3,
   "id": "6e9ee8cd-ab34-44f1-8a10-216ecb5ef414",
   "metadata": {},
   "outputs": [],
   "source": [
    "# TODO: rewrite function to accomodate arrays\n",
    "def get_npdatetime64(year: int, month: int, day: int) -> np.datetime64:\n",
    "    \"\"\" Returns a np.datetime64 object associated with the input year, date and day.\"\"\"\n",
    "    return np.datetime64(f'{year}-{str(month).zfill(2)}-{str(day).zfill(2)}')"
   ]
  },
  {
   "cell_type": "code",
   "execution_count": 4,
   "id": "ee7f64a7-2f4e-4054-ad81-ca9a6c5d0a9e",
   "metadata": {},
   "outputs": [],
   "source": [
    "def get_weekday(date: np.datetime64) -> int:\n",
    "    \"\"\" Returns the weekday of a np.datetime64 object.\"\"\"\n",
    "    return ((date.astype('datetime64[D]').view('int64') - 4) % 7).view('int64')"
   ]
  },
  {
   "cell_type": "code",
   "execution_count": 5,
   "id": "a38143e0-1a98-41aa-b3bb-6646f01c00a8",
   "metadata": {},
   "outputs": [],
   "source": [
    "def get_day(date: np.datetime64) -> int:\n",
    "    \"\"\" Returns the day of a np.datetime64 object.\"\"\"\n",
    "    return (date - date.astype('datetime64[M]') + 1).view('int64')"
   ]
  },
  {
   "cell_type": "code",
   "execution_count": 6,
   "id": "2f927771-b825-478b-995a-c7d34cc5c389",
   "metadata": {},
   "outputs": [],
   "source": [
    "def get_month(date: np.datetime64) -> int:\n",
    "    \"\"\" Returns the month of a np.datetime64 object.\"\"\"\n",
    "    return date.astype('datetime64[M]').astype(int) % 12 + 1"
   ]
  },
  {
   "cell_type": "code",
   "execution_count": 7,
   "id": "c0e25020-f5b5-41ea-8283-d3731105c327",
   "metadata": {},
   "outputs": [],
   "source": [
    "def get_year(date: np.datetime64) -> int:\n",
    "    \"\"\" Returns the year of a np.datetime64 object.\"\"\"\n",
    "    return date.astype('datetime64[Y]').astype(int) + 1970"
   ]
  },
  {
   "cell_type": "code",
   "execution_count": 8,
   "id": "c810fe8f-6ce3-4239-b210-9f75b6818e3d",
   "metadata": {},
   "outputs": [],
   "source": [
    "def is_eom(date: np.datetime64) -> bool:\n",
    "    \"\"\" Asserts if a date is eom.\"\"\"\n",
    "    return get_month(date + np.timedelta64(1, '1D')) == get_month(date) + 1"
   ]
  },
  {
   "cell_type": "code",
   "execution_count": 9,
   "id": "6588bc17-dc28-4cee-9d3e-f092ad385180",
   "metadata": {},
   "outputs": [],
   "source": [
    "def is_leap(year: int) -> bool:\n",
    "    \"\"\"Asserts if a year is a leap year.\"\"\"\n",
    "    return np.logical_and(year % 4 == 0, np.logical_or(year % 100 != 0, year % 400 == 0))"
   ]
  },
  {
   "cell_type": "code",
   "execution_count": 10,
   "id": "0ce92b68-47b0-457c-8c7e-f95a67d0c02c",
   "metadata": {},
   "outputs": [],
   "source": [
    "def build_schedule(effective: np.datetime64, maturity: np.datetime64, freq:int, roll:str='forward',holidays:list=[],\n",
    "                   gen_backward:bool=False, eom:bool=True, first:np.datetime64=None, next_to_last:np.datetime64=None,\n",
    "                   bump_maturity:bool=False) -> np.array:\n",
    "    \"\"\"Returns a payment schedule for fixed income instruments.\"\"\"\n",
    "    \n",
    "    if gen_backward and next_to_last is None:\n",
    "        next_to_last = maturity.astype('datetime64[M]') - np.timedelta64(freq, 'M')\n",
    "        next_to_last = next_to_last.astype('datetime64[D]') + np.timedelta64(get_day(maturity) - 1, 'D')\n",
    "        next_to_last = np.busday_offset(next_to_last, 0, roll=roll, holidays = holidays)\n",
    "    \n",
    "    elif gen_backward is False and first is None:\n",
    "        first = effective.astype('datetime64[M]') + np.timedelta64(freq, 'M')\n",
    "        first = first.astype('datetime64[D]') + np.timedelta64(get_day(effective) - 1, 'D')\n",
    "        first = np.busday_offset(first, 0, roll, holidays = holidays)\n",
    "    \n",
    "    if gen_backward:\n",
    "        start, end = next_to_last, effective\n",
    "        flag = -1\n",
    "    \n",
    "    else:\n",
    "        start, end = first, maturity\n",
    "        flag = 1\n",
    "    \n",
    "    eom_adj = (is_eom(start)*eom)\n",
    "    schedule = np.arange(start.astype('datetime64[M]'), end.astype('datetime64[M]'), np.timedelta64(flag*freq, 'M'))\n",
    "    schedule = (schedule + np.timedelta64(1*eom_adj, 'M')).astype('datetime64[D]')\n",
    "    schedule += np.timedelta64((1-eom_adj)*get_day(effective)-eom_adj-1, 'D')\n",
    "    schedule = np.busday_offset(schedule, 0, roll=roll, holidays = holidays)\n",
    "    if bump_maturity:\n",
    "        schedule = np.append(schedule, [effective, np.busday_offset(maturity, 0, roll=roll, holidays = holidays)])\n",
    "    else:\n",
    "        schedule = np.append(schedule, [effective, maturity])\n",
    "    return np.sort(schedule)"
   ]
  },
  {
   "cell_type": "code",
   "execution_count": 11,
   "id": "ae4eea5c-2f15-4e01-9278-547c28f40039",
   "metadata": {},
   "outputs": [],
   "source": [
    "# this function is deprecated\n",
    "def build_calendar(year: np.array):\n",
    "    \"\"\"Returns the beginning weekday of each month and the number of days per month. Each output\n",
    "    row represents a year (ascending order).\"\"\"\n",
    "    leap_array = is_leap(year)\n",
    "    days_per_month = np.tile(np.array([31, 28, 31, 30, 31, 30, 31, 31, 30, 31, 31, 31]), (len(year), 1))\n",
    "    days_per_month += np.tile(np.array([0, 1, 0, 0, 0, 0, 0, 0, 0, 0, 0, 0]), (len(year), 1))*leap_array[:, np.newaxis]\n",
    "    leap_adj = np.tile(np.array([0, 0, 1, 1, 1, 1, 1, 1, 1, 1, 1, 1]), (len(year), 1))*leap_array[:, np.newaxis]\n",
    "    bom1900 = np.tile(np.array([0, 3, 3, 6, 1, 4, 6, 2, 5, 0, 3, 5]), (len(year), 1)) # Weekday of each month of the year 1900\n",
    "    offset_array = (year - 1900) + np.sum(is_leap(np.arange(1900, year[0]-1))) + np.pad(leap_array[:-1], (1, 0), 'constant')\n",
    "    weekdays_offset = np.ones((len(year), 12))*offset_array[:, np.newaxis]\n",
    "    bom_year = (weekdays_offset+leap_adj+bom1900)%7\n",
    "    return bom_year, days_per_month"
   ]
  },
  {
   "cell_type": "code",
   "execution_count": 12,
   "id": "0eb82913-728b-4f24-8ce7-524dae0ab225",
   "metadata": {},
   "outputs": [],
   "source": [
    "def holiday_from_rule(year: np.array, holiday_rules:np.array) -> np.array:\n",
    "    \"\"\"Returns holidays based on rule of the form nth week day of month.\"\"\"  \n",
    "    nth = holiday_rules[:, 0]\n",
    "    week_day = holiday_rules[:, 1]\n",
    "    months = holiday_rules[:, 2]\n",
    "    month_adj = np.where(nth>=0, months-1, months)\n",
    "    dates_array = np.arange(get_npdatetime64(year[0], 1, 1), get_npdatetime64(year[-1]+1, 1, 1), np.timedelta64(1, 'M'), dtype='datetime64[M]')\n",
    "    dates_array = dates_array.reshape(len(year), 12).astype('datetime64[D]')\n",
    "    bom_year = get_weekday(dates_array)\n",
    "    adj = (7 - bom_year[:, month_adj] + week_day)\n",
    "    dates_array = dates_array[:, month_adj] + np.array(adj+ np.maximum(nth-1-1*(adj>6), 0)*7 +7*nth*np.where(nth>=0, False, True), dtype='timedelta64[D]')\n",
    "    return np.asarray(dates_array).ravel()"
   ]
  },
  {
   "cell_type": "code",
   "execution_count": 13,
   "id": "6167578d-a2b0-467c-a58a-a257f9a567f2",
   "metadata": {},
   "outputs": [],
   "source": [
    "def holiday_from_dates(year:np.array, holiday_dates:np.array, sat_roll:bool=True, sun_roll:bool=True) -> np.array:\n",
    "    \"\"\"Return holidays based on an fixed dates. The funbction allows to roll holidays that fall on the week end.\"\"\"\n",
    "    months = np.tile(holiday_dates[:, 0], (len(year), 1))\n",
    "    days = np.tile(holiday_dates[:, 1], (len(year), 1))\n",
    "    years = np.repeat(year[:,np.newaxis], len(holiday_dates), 1)\n",
    "    to_return = years.astype(str).astype('datetime64[Y]').astype('datetime64[M]')\n",
    "    to_return += (months-1).astype('timedelta64[M]')\n",
    "    to_return = to_return.astype('datetime64[D]')\n",
    "    to_return += (days-1).astype('timedelta64[D]')\n",
    "    week_day = get_weekday(to_return)\n",
    "    if sat_roll:\n",
    "        adj_sat = np.where(week_day==5, -1, 0)\n",
    "        to_return += adj_sat.astype('timedelta64[D]')\n",
    "    if sun_roll:\n",
    "        adj_sun = np.where(week_day==6, +1, 0)\n",
    "        to_return += adj_sun.astype('timedelta64[D]')\n",
    "    return np.asarray(to_return).ravel()"
   ]
  },
  {
   "cell_type": "code",
   "execution_count": 14,
   "id": "1a498838-c7f3-4033-811e-ee12f6deea05",
   "metadata": {},
   "outputs": [],
   "source": [
    "def holidays_from_foo(year:np.array, holiday_foo:np.array, sat_roll:bool=True, sun_roll:bool=True) -> np.array:\n",
    "    \"\"\"Returns holidays based on holiday functions of the type foo(year) -> month, day.\"\"\"\n",
    "    to_return = np.array([foo(year) for foo in holiday_foo])\n",
    "    week_day = get_weekday(to_return)\n",
    "    if sat_roll:\n",
    "        adj_sat = np.where(week_day==5, -1, 0)\n",
    "        to_return += adj_sat.astype('timedelta64[D]')\n",
    "    if sun_roll:\n",
    "        adj_sun = np.where(week_day==6, +1, 0)\n",
    "        to_return += adj_sun.astype('timedelta64[D]')\n",
    "    return np.asarray(to_return).ravel()"
   ]
  },
  {
   "cell_type": "code",
   "execution_count": 15,
   "id": "2e851ef1-8f28-4217-a187-ea3a2da3019b",
   "metadata": {},
   "outputs": [],
   "source": [
    "def get_holidays(year:np.array, holiday_rules:np.array, holiday_dates:np.array, holiday_foo:np.array, sat_roll:bool=True, sun_roll:bool=True) -> np.array:\n",
    "    \"\"\"Returns an array of holidays.\"\"\"\n",
    "    to_return = np.concatenate([holiday_from_rule(year, holiday_rules), holiday_from_dates(year, holiday_dates, sat_roll, sun_roll),\n",
    "                                holidays_from_foo(year, holiday_foo,  sat_roll, sun_roll)], dtype='datetime64[D]')\n",
    "    return to_return"
   ]
  },
  {
   "cell_type": "code",
   "execution_count": 16,
   "id": "e50ade08-1d98-4862-9e5a-24dc5ff1d5a0",
   "metadata": {},
   "outputs": [],
   "source": [
    "def easter(year: int):\n",
    "    \"\"\"Returns the month and day of easter of the given year.\"\"\"\n",
    "    a = year % 19\n",
    "    b = year // 100\n",
    "    c = year % 100\n",
    "    d = (19 * a + b - b // 4 - ((b - (b + 8) // 25 + 1) // 3) + 15) % 30\n",
    "    e = (32 + 2 * (b % 4) + 2 * (c // 4) - d - (c % 4)) % 7\n",
    "    f = d + e - 7 * ((a + 11 * d + 22 * e) // 451) + 114\n",
    "    month = f // 31\n",
    "    day = f % 31 + 1\n",
    "    return np.array([month, day]).T"
   ]
  },
  {
   "cell_type": "code",
   "execution_count": 17,
   "id": "9b59ca4e-c4a6-4286-9490-6c96fadf59dc",
   "metadata": {},
   "outputs": [],
   "source": [
    "def good_friday(year: np.array) -> np.array:\n",
    "    \"\"\"Returns the month and day of good friday of the given year.\"\"\"\n",
    "    myeaster = easter(year)\n",
    "    months = myeaster[:, 0]\n",
    "    days = myeaster[:, 1]\n",
    "    to_return = year.astype(str).astype('datetime64[Y]').astype('datetime64[M]')\n",
    "    to_return += (months-1).astype('timedelta64[M]')\n",
    "    to_return = to_return.astype('datetime64[D]')\n",
    "    to_return += (days-3).astype('timedelta64[D]')\n",
    "    return np.asarray(to_return).ravel()"
   ]
  },
  {
   "cell_type": "markdown",
   "id": "3e09ca62-2e97-4955-a218-67a8a4f5b32c",
   "metadata": {},
   "source": [
    "#### DAY COUNT"
   ]
  },
  {
   "cell_type": "code",
   "execution_count": 18,
   "id": "3d300abf-08a4-4d9e-9e54-de304cdd0bce",
   "metadata": {},
   "outputs": [],
   "source": [
    "def act_360(start_date: np.datetime64, end_date: np.datetime64) -> float:\n",
    "    \"\"\"ACT 360 day count standard.\"\"\"\n",
    "    actual_days = (end_date - start_date).view('int64')\n",
    "    return actual_days / 360.0"
   ]
  },
  {
   "cell_type": "code",
   "execution_count": 19,
   "id": "b89128e6-07ab-4f4a-a10b-20f90f698bb4",
   "metadata": {},
   "outputs": [],
   "source": [
    "def act_365_fixed(start_date: np.datetime64, end_date: np.datetime64) -> float:\n",
    "    \"\"\" ACT 365 FIXED day count standard.\"\"\"\n",
    "    actual_days = (end_date - start_date).view('int64')\n",
    "    return actual_days / 365.0"
   ]
  },
  {
   "cell_type": "code",
   "execution_count": 20,
   "id": "af1a6f8f-ca4d-4990-9739-a1664094e6fc",
   "metadata": {},
   "outputs": [],
   "source": [
    "def act_365_fixed(start_date: np.datetime64, end_date: np.datetime64) -> float:\n",
    "    \"\"\" ACT 365 FIXED day count standard.\"\"\"\n",
    "    actual_days = (end_date - start_date).view('int64')\n",
    "    return actual_days / 365.0"
   ]
  },
  {
   "cell_type": "code",
   "execution_count": 21,
   "id": "7043a6d2-2ebe-41d7-9967-baea52b4181d",
   "metadata": {},
   "outputs": [],
   "source": [
    "def thirty_e_360(start_date: np.datetime64, end_date: np.datetime64) -> float:\n",
    "    \"\"\" THIRTY E 360 day count standard.\"\"\"\n",
    "    start_year = get_year(start_date)\n",
    "    end_year = get_year(end_date)\n",
    "    start_month = get_month(start_date)\n",
    "    end_month = get_month(end_date)\n",
    "    start_day = np.minimum(get_day(start_date), 30)\n",
    "    end_day = np.minimum(get_day(end_date), 30)\n",
    "    return (360.0*(end_year - start_year) + 30.0*(end_month - start_month) + (end_day - start_day)) / 360.0"
   ]
  },
  {
   "cell_type": "code",
   "execution_count": 22,
   "id": "81c99c70-c007-47b1-8184-d6f34ef0bbae",
   "metadata": {},
   "outputs": [],
   "source": [
    "# FIXME: function is not behaving properly with arrays \n",
    "def act_365_act(start_date: np.datetime64, end_date: np.datetime64) -> float:\n",
    "    \"\"\" ACT 365 ACT day count standard.\"\"\"\n",
    "    actual_days = (end_date - start_date).view('int64')\n",
    "    start_year = get_year(start_date)\n",
    "    start_feb_eom = get_feb_eom(start_year)\n",
    "    end_year = get_year(end_date)\n",
    "    end_feb_eom = get_feb_eom(end_year)\n",
    "    leap_flag = is_leap(start_year)*(start_date <= start_feb_eom) + is_leap(end_year)*(end_date >= end_feb_eom)\n",
    "    return actual_days / np.maximum(365.0, 366.0*leap_flag)"
   ]
  },
  {
   "cell_type": "code",
   "execution_count": 23,
   "id": "5e2bf13d-4e95-48c4-b78d-61c6f74f2316",
   "metadata": {},
   "outputs": [],
   "source": [
    "# FIXME: function is not behaving properly with arrays \n",
    "def act_act_isda(start_date: np.datetime64, end_date: np.datetime64) -> float:\n",
    "    \"\"\" THIRTY 360 ISDA day count standard.\"\"\"\n",
    "    start_year = get_year(start_date)\n",
    "    end_year = get_year(end_date)\n",
    "    if start_year == end_year:\n",
    "        actual_days = (end_date - start_date).astype(object).days\n",
    "        return actual_days / np.maximum(365, 366 * is_leap(start_year))\n",
    "    else:\n",
    "        a = (start_date - get_npdatetime64(start_year, 1, 1)).astype(object).days\n",
    "        a /= np.maximum(365, 366*is_leap(start_year))\n",
    "        b = (get_npdatetime64(end_year, 1, 1)-end_date).astype(object).days\n",
    "        b /= np.maximum(365, 366 * is_leap(end_year))\n",
    "        return a + b + end_year - start_year - 1"
   ]
  },
  {
   "cell_type": "markdown",
   "id": "6e385fad-7f34-4633-b83a-2e36929e55c9",
   "metadata": {},
   "source": [
    "#### CURVE INTERPOLATION"
   ]
  },
  {
   "cell_type": "code",
   "execution_count": 24,
   "id": "2eb96e77-851b-4b2f-b67c-40e9d48fbcc4",
   "metadata": {},
   "outputs": [],
   "source": [
    "# Nelson Seigel Svensson\n",
    "# TODO: this section needs some checking because from time to time the optimization doesn't converge \n",
    "# there are some relevan issues with the actual fit. possible issue might be due to its current inverted shape."
   ]
  },
  {
   "cell_type": "code",
   "execution_count": 25,
   "id": "7be768e0-bf22-4fe4-9ea0-4172e236d96d",
   "metadata": {},
   "outputs": [],
   "source": [
    "def nss_factors(t:np.array, tau:np.array):\n",
    "    \"\"\"Factor loadings for times t, excluding constants.\"\"\"\n",
    "    if isinstance(t, Real) and t <= 0:\n",
    "        return 1, 0, 0\n",
    "    elif isinstance(t, np.ndarray):\n",
    "            zero_idx = t <= 0\n",
    "            t[zero_idx] = np.finfo(float).eps\n",
    "    exp_tt1 = np.exp(-t / tau[0])\n",
    "    exp_tt2 = np.exp(-t / tau[1])\n",
    "    factor1 = (1 - exp_tt1) / (t / tau[0])\n",
    "    factor2 = factor1 - exp_tt1\n",
    "    factor3 = (1 - exp_tt2) / (t / tau[1]) - exp_tt2\n",
    "    if isinstance(t, np.ndarray):\n",
    "        t[zero_idx] = 0\n",
    "        factor1[zero_idx] = 1\n",
    "        factor2[zero_idx] = 0\n",
    "        factor3[zero_idx] = 0\n",
    "    return factor1, factor2, factor3"
   ]
  },
  {
   "cell_type": "code",
   "execution_count": 26,
   "id": "b17d628f-0d64-4014-ac41-86c281173e4a",
   "metadata": {},
   "outputs": [],
   "source": [
    "def nss_factors_matrix(t:np.array, tau: np.array):\n",
    "    \"\"\"Factor loadings for time(s) T as matrix columns, including constant column (=1.0).\"\"\"\n",
    "    factor1, factor2, factor3 = nss_factors(t, tau)\n",
    "    constant =  (np.ones(t.size) if isinstance(t, np.ndarray) else 1.0)\n",
    "    return np.stack([constant, factor1, factor2, factor3]).transpose()"
   ]
  },
  {
   "cell_type": "code",
   "execution_count": 27,
   "id": "530bdec8-abd7-4916-817b-c364918cdf59",
   "metadata": {},
   "outputs": [],
   "source": [
    "def betas_nss_ols(tau:np.array, t:np.array, y:np.array):\n",
    "    \"\"\"Calculate the best-fitting beta-values given tau (= array of tau_1\n",
    "    and tau_2) for time-value pairs t and y and return a corresponding\n",
    "    Nelson Siegel Svensson curve parameters.\"\"\"\n",
    "    factors =  nss_factors_matrix(t, tau)\n",
    "    res = np.linalg.lstsq(factors, y, rcond=None)\n",
    "    return res[0]"
   ]
  },
  {
   "cell_type": "code",
   "execution_count": 28,
   "id": "d8942f29-5209-4bb6-be8e-608ff852b8a4",
   "metadata": {},
   "outputs": [],
   "source": [
    "def betas_nss_ols(tau:np.array, t:np.array, y:np.array):\n",
    "    \"\"\"Calculate the best-fitting beta-values given tau (= array of tau_1\n",
    "    and tau_2) for time-value pairs t and y and return a corresponding\n",
    "    Nelson Siegel Svensson curve parameters.\"\"\"\n",
    "    factors =  nss_factors_matrix(t, tau)\n",
    "    res = np.linalg.lstsq(factors, y, rcond=None)\n",
    "    return res[0]"
   ]
  },
  {
   "cell_type": "code",
   "execution_count": 29,
   "id": "691c00a0-31bc-4319-a3b1-20c227d6fb2f",
   "metadata": {},
   "outputs": [],
   "source": [
    "def betas_nss_ols(tau:np.array, t:np.array, y:np.array):\n",
    "    \"\"\"Calculate the best-fitting beta-values given tau (= array of tau_1\n",
    "    and tau_2) for time-value pairs t and y and return a corresponding\n",
    "    Nelson Siegel Svensson curve parameters.\"\"\"\n",
    "    factors =  nss_factors_matrix(t, tau)\n",
    "    res = np.linalg.lstsq(factors, y, rcond=None)\n",
    "    return res[0]"
   ]
  },
  {
   "cell_type": "code",
   "execution_count": 30,
   "id": "73ef6ae7-52a1-4b87-b0a6-49a9a55c9531",
   "metadata": {},
   "outputs": [],
   "source": [
    "def nss_interpolate(t:np.array, beta:np.array, tau:np.array) -> np.array:\n",
    "    \"\"\"Nelson Seigel Svensson interpolation method for supplied points.\"\"\"\n",
    "    factor1, factor2, factor3 = nss_factors(t, tau)\n",
    "    return beta[0] + beta[1]*factor1 + beta[2]*factor2+beta[3]*factor3             "
   ]
  },
  {
   "cell_type": "code",
   "execution_count": 31,
   "id": "8d73c226-0a26-4427-a553-a7ef29450868",
   "metadata": {},
   "outputs": [],
   "source": [
    "def nss_interpolate(t:np.array, beta:np.array, tau:np.array) -> np.array:\n",
    "    \"\"\"Nelson Seigel Svensson interpolation method for supplied points.\"\"\"\n",
    "    factor1, factor2, factor3 = nss_factors(t, tau)\n",
    "    return beta[0] + beta[1]*factor1 + beta[2]*factor2+beta[3]*factor3             "
   ]
  },
  {
   "cell_type": "code",
   "execution_count": 32,
   "id": "69bdd89e-a4e4-4913-9c87-733dec224177",
   "metadata": {},
   "outputs": [],
   "source": [
    "def errorfn_nss_ols(tau: np.array, t: np.ndarray, y: np.ndarray) -> float:\n",
    "    \"\"\"Sum of squares error function for a Nelson-Siegel-Svensson\n",
    "    model and time-value pairs t and y. All betas are obtained\n",
    "    by ordinary least squares given tau (= array of tau_1 and tau_2).\"\"\"\n",
    "    beta = betas_nss_ols(tau, t, y)\n",
    "    error = np.sum((nss_interpolate(t, beta, tau)-y)**2)\n",
    "    return error "
   ]
  },
  {
   "cell_type": "code",
   "execution_count": 33,
   "id": "1adf7250-3daf-4306-9533-c8dffb7f4212",
   "metadata": {},
   "outputs": [],
   "source": [
    "def calibrate_nss_ols(t: np.ndarray, y: np.ndarray, tau_0:np.array = np.array([2.0, 5.0])):\n",
    "    \"\"\"Calibrate a Nelson-Siegel-Svensson curve to time-value pairs t and y,\n",
    "    by optimizing tau1 and tau2 and chosing all betas using ordinary \n",
    "    least squares. This method does not work well regarding the recovery\n",
    "    of true parameters.\"\"\"\n",
    "    opt_res = minimize(errorfn_nss_ols, x0=tau_0, args=(t, y))\n",
    "    assert opt_res.success\n",
    "    betas = betas_nss_ols(opt_res.x, t, y)\n",
    "    return betas, opt_res.x"
   ]
  },
  {
   "cell_type": "code",
   "execution_count": 34,
   "id": "d6b8601b-abed-4965-8167-844c53d42dd8",
   "metadata": {},
   "outputs": [],
   "source": [
    "# TODO: implement other interpolation meyhods. refer to bbg docs for ideas."
   ]
  },
  {
   "cell_type": "markdown",
   "id": "006e9c2e-2416-4511-98b8-39bbfa025cca",
   "metadata": {},
   "source": [
    "#### DISCOUNT CURVE UTILS"
   ]
  },
  {
   "cell_type": "code",
   "execution_count": null,
   "id": "b36c6d74-405b-4f7f-8d84-590034f36dcd",
   "metadata": {},
   "outputs": [],
   "source": []
  },
  {
   "cell_type": "code",
   "execution_count": null,
   "id": "01f95154-9b6f-4731-b8eb-7eab78e7b1e7",
   "metadata": {},
   "outputs": [],
   "source": []
  },
  {
   "cell_type": "code",
   "execution_count": null,
   "id": "060b8d80-53a2-411c-82e3-c90138fbed4b",
   "metadata": {},
   "outputs": [],
   "source": []
  },
  {
   "cell_type": "markdown",
   "id": "95c62f0d-cc9e-479f-bbe5-a6d0285a7dfd",
   "metadata": {},
   "source": [
    "#### SWAP CURVE BOOTSTRAP"
   ]
  },
  {
   "cell_type": "code",
   "execution_count": 35,
   "id": "4be827b1-2407-41ca-9ab5-a27de7259690",
   "metadata": {},
   "outputs": [],
   "source": [
    "# reference: https://github.com/google/tf-quant-finance\n",
    "# reference: https://github.com/domokane/FinancePy\n",
    "# reference: https://github.com/goldmansachs/gs-quant"
   ]
  },
  {
   "cell_type": "code",
   "execution_count": 36,
   "id": "e5e8e36e-d02e-4064-bb16-2a9b0512dc50",
   "metadata": {},
   "outputs": [],
   "source": [
    "# TODO: define dataclass to store results\n",
    "# TODO: try using tf or numba jit to speed the calcs"
   ]
  },
  {
   "cell_type": "code",
   "execution_count": null,
   "id": "14a8c6cf-9872-4aba-8edb-a5c56a92d13c",
   "metadata": {},
   "outputs": [],
   "source": []
  },
  {
   "cell_type": "code",
   "execution_count": null,
   "id": "8b5c87c4-6623-488e-9255-e9a32964f9be",
   "metadata": {},
   "outputs": [],
   "source": []
  },
  {
   "cell_type": "code",
   "execution_count": null,
   "id": "4c1cff22-8665-428d-be9d-32f8a048e3c8",
   "metadata": {},
   "outputs": [],
   "source": []
  },
  {
   "cell_type": "markdown",
   "id": "6afd8fdb-ef53-4b98-9c9b-a8bc593c6b5f",
   "metadata": {},
   "source": [
    "#### CASH FLOW UTILS"
   ]
  },
  {
   "cell_type": "code",
   "execution_count": null,
   "id": "82377ab3-21f8-47ba-844d-bdffa043085d",
   "metadata": {},
   "outputs": [],
   "source": []
  },
  {
   "cell_type": "code",
   "execution_count": null,
   "id": "f5a13c9a-d1fa-4a24-b58e-b86550cf4cc3",
   "metadata": {},
   "outputs": [],
   "source": []
  },
  {
   "cell_type": "code",
   "execution_count": null,
   "id": "949f7c60-acf2-4c4a-8c22-1fd510d26eae",
   "metadata": {},
   "outputs": [],
   "source": []
  },
  {
   "cell_type": "markdown",
   "id": "ffc0c145-0ed2-4def-a66e-5099c536214a",
   "metadata": {},
   "source": [
    "#### SWAP UTILS"
   ]
  },
  {
   "cell_type": "code",
   "execution_count": 37,
   "id": "df5e9430-1c4b-4ccd-a1a5-92c22da765b4",
   "metadata": {},
   "outputs": [],
   "source": [
    "# TODO: implement dataclass to store the resul (handle camel case wrapper and implement calc method)\n",
    "# TODO: implement xnpv, pv01, dv01, gamma for the swap"
   ]
  },
  {
   "cell_type": "code",
   "execution_count": null,
   "id": "2f1db6ba-482c-4a63-a7af-97ddb1dd6281",
   "metadata": {},
   "outputs": [],
   "source": []
  },
  {
   "cell_type": "code",
   "execution_count": null,
   "id": "4633f416-338e-41e5-8c54-e1556653824e",
   "metadata": {},
   "outputs": [],
   "source": []
  },
  {
   "cell_type": "code",
   "execution_count": null,
   "id": "0022cc1e-a0f5-42fb-b904-4d995092e413",
   "metadata": {},
   "outputs": [],
   "source": []
  },
  {
   "cell_type": "code",
   "execution_count": null,
   "id": "fdccae5e-db85-4bf3-8179-856e8e9ce353",
   "metadata": {},
   "outputs": [],
   "source": []
  },
  {
   "cell_type": "code",
   "execution_count": null,
   "id": "0c710bca-895a-438c-bfc6-0da12eb2fdf7",
   "metadata": {},
   "outputs": [],
   "source": []
  },
  {
   "cell_type": "markdown",
   "id": "bb10f5bc-971e-442e-bb7d-13a1d5fb37d9",
   "metadata": {},
   "source": [
    "### EXAMPLE"
   ]
  },
  {
   "cell_type": "code",
   "execution_count": 38,
   "id": "645832b1-0dd1-46a3-a8ea-6ee326dbd43b",
   "metadata": {},
   "outputs": [],
   "source": [
    "# holiday rules for NYSE (nth, week_day, month)\n",
    "holiday_rules = np.array([(3, 0, 1), (3, 0, 2), (-1, 0, 5), (1, 0, 9), (4, 3, 11)])\n",
    "\n",
    "# holiday dates for NYSE (month, day)\n",
    "holiday_dates = np.array([(1, 1), (6, 19), (7, 4), (12, 25)])\n",
    "\n",
    "# holiday functions for NYSE\n",
    "holiday_foo = np.array([good_friday])"
   ]
  },
  {
   "cell_type": "code",
   "execution_count": 39,
   "id": "c11d0a4e-61d2-48e8-9882-096fe904b857",
   "metadata": {},
   "outputs": [],
   "source": [
    "# params\n",
    "effective = np.datetime64('2023-02-20')\n",
    "maturity = np.datetime64('2024-02-20')"
   ]
  },
  {
   "cell_type": "code",
   "execution_count": 40,
   "id": "1435e5ff-e47d-4a93-9b85-0a3279221dd3",
   "metadata": {},
   "outputs": [],
   "source": [
    "year = np.arange(get_year(effective), get_year(maturity)+1)"
   ]
  },
  {
   "cell_type": "code",
   "execution_count": 41,
   "id": "4aaa4057-7733-4b54-899e-abe3595d6d32",
   "metadata": {},
   "outputs": [],
   "source": [
    "holiday = get_holidays(year, holiday_rules, holiday_dates, holiday_foo)"
   ]
  },
  {
   "cell_type": "code",
   "execution_count": 42,
   "id": "9d7263ca-77be-4dd9-b594-cecfde7ee0c8",
   "metadata": {},
   "outputs": [],
   "source": [
    "schedule = build_schedule(effective, maturity, freq=2, holidays = holiday)"
   ]
  },
  {
   "cell_type": "code",
   "execution_count": 43,
   "id": "b43fc62d-4abe-46e3-9383-feb49efe9b96",
   "metadata": {},
   "outputs": [
    {
     "data": {
      "text/plain": [
       "array(['2023-02-20', '2023-04-20', '2023-06-20', '2023-08-21',\n",
       "       '2023-10-20', '2023-12-20', '2024-02-20'], dtype='datetime64[D]')"
      ]
     },
     "execution_count": 43,
     "metadata": {},
     "output_type": "execute_result"
    }
   ],
   "source": [
    "schedule"
   ]
  },
  {
   "cell_type": "code",
   "execution_count": null,
   "id": "ce6a6412-cb6a-41db-8843-40bc95d5b680",
   "metadata": {},
   "outputs": [],
   "source": []
  },
  {
   "cell_type": "code",
   "execution_count": null,
   "id": "6cfddb38-5856-46bc-9e91-5ee3e65c890a",
   "metadata": {},
   "outputs": [],
   "source": []
  },
  {
   "cell_type": "code",
   "execution_count": null,
   "id": "60d43652-38f1-45ce-8f92-4e95e4b79246",
   "metadata": {},
   "outputs": [],
   "source": []
  }
 ],
 "metadata": {
  "kernelspec": {
   "display_name": "Python 3 (ipykernel)",
   "language": "python",
   "name": "python3"
  },
  "language_info": {
   "codemirror_mode": {
    "name": "ipython",
    "version": 3
   },
   "file_extension": ".py",
   "mimetype": "text/x-python",
   "name": "python",
   "nbconvert_exporter": "python",
   "pygments_lexer": "ipython3",
   "version": "3.9.15"
  }
 },
 "nbformat": 4,
 "nbformat_minor": 5
}
