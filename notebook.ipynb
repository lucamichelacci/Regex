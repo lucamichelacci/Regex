{
 "cells": [
  {
   "cell_type": "markdown",
   "id": "357ee207-b749-403d-8234-d3d078265b45",
   "metadata": {},
   "source": [
    "### Constants"
   ]
  },
  {
   "cell_type": "code",
   "execution_count": 1,
   "id": "f4ee766c-690d-4af2-9e6f-91e95741edb1",
   "metadata": {},
   "outputs": [],
   "source": [
    "gDaysInYear = 365.0"
   ]
  },
  {
   "cell_type": "code",
   "execution_count": null,
   "id": "6da72c2b-44cb-4c49-a34d-d4f18561ad93",
   "metadata": {},
   "outputs": [],
   "source": []
  },
  {
   "cell_type": "code",
   "execution_count": null,
   "id": "482f49b4-503f-49d4-9dcc-3ac386fb9f16",
   "metadata": {},
   "outputs": [],
   "source": []
  },
  {
   "cell_type": "code",
   "execution_count": null,
   "id": "757b31b6-75f2-475f-a385-38603642d1ef",
   "metadata": {},
   "outputs": [],
   "source": []
  },
  {
   "cell_type": "markdown",
   "id": "df02cb2d-990e-41fa-97ca-6a6e79235659",
   "metadata": {},
   "source": [
    "### Time Utils"
   ]
  },
  {
   "cell_type": "code",
   "execution_count": 2,
   "id": "0daf5884-45c2-42bd-a27e-7000dcbc07ed",
   "metadata": {},
   "outputs": [],
   "source": [
    "import calendar\n",
    "import holidays\n",
    "import numpy as np\n",
    "import datetime as dt\n",
    "from dateutil.relativedelta import relativedelta\n",
    "from enum import Enum"
   ]
  },
  {
   "cell_type": "code",
   "execution_count": 3,
   "id": "3f6b8003-ea57-45bc-b203-745e73e2ae8e",
   "metadata": {},
   "outputs": [],
   "source": [
    "# References:\n",
    "# https://developers.opengamma.com/quantitative-research/Interest-Rate-Instruments-and-Market-Conventions.pdf\n",
    "# https://en.wikipedia.org/wiki/Day_count_convention\n",
    "# http://www.fairmat.com/documentation/usermanual/topics/download/mediawiki/index.php/Day_Count_Conventions.htm\n",
    "# http://www.eclipsesoftware.biz/DayCountConventions.html\n",
    "# https://github.com/domokane/FinancePy/blob/master/financepy"
   ]
  },
  {
   "cell_type": "code",
   "execution_count": 4,
   "id": "ba3878aa-50d2-4ad8-b9a2-4b299b825a0a",
   "metadata": {},
   "outputs": [],
   "source": [
    "class FrequencyTypes(Enum):\n",
    "    ZERO = -1\n",
    "    SIMPLE = 0\n",
    "    ANNUAL = 1\n",
    "    SEMI_ANNUAL = 2\n",
    "    TRI_ANNUAL = 3\n",
    "    QUARTERLY = 4\n",
    "    MONTHLY = 12\n",
    "    CONTINUOUS = 99"
   ]
  },
  {
   "cell_type": "code",
   "execution_count": 5,
   "id": "f3f9e1d6-fc6f-4d9a-aeb2-8d065a4829f6",
   "metadata": {},
   "outputs": [],
   "source": [
    "def get_annual_frequency(frequency_type: FrequencyTypes):\n",
    "    \"\"\"Returns the number of payments in a year given a frequency_type.\"\"\"\n",
    "    frequency_dict = {FrequencyTypes.CONTINUOUS: -1.0,\n",
    "                      FrequencyTypes.ZERO: 1.0,\n",
    "                      FrequencyTypes.ANNUAL: 1.0,\n",
    "                      FrequencyTypes.SEMI_ANNUAL: 2.0,\n",
    "                      FrequencyTypes.TRI_ANNUAL: 3.0,\n",
    "                      FrequencyTypes.QUARTERLY: 4.0,\n",
    "                      FrequencyTypes.MONTHLY: 12.0}\n",
    "    return frequency_dict[frequency_type]"
   ]
  },
  {
   "cell_type": "code",
   "execution_count": null,
   "id": "a1092c45-7f7b-4772-bf3e-73d01ad2018d",
   "metadata": {},
   "outputs": [],
   "source": []
  },
  {
   "cell_type": "code",
   "execution_count": null,
   "id": "65dac4de-7b37-4d9f-96cf-4062f61983bc",
   "metadata": {},
   "outputs": [],
   "source": []
  },
  {
   "cell_type": "code",
   "execution_count": null,
   "id": "1a2c0a72-c551-4d3b-9356-92a7e2cef8ee",
   "metadata": {},
   "outputs": [],
   "source": []
  },
  {
   "cell_type": "code",
   "execution_count": 6,
   "id": "0b533f28-8e04-4a5b-a81c-c849843eecd5",
   "metadata": {},
   "outputs": [],
   "source": [
    "class DayCountBasisTypes(Enum):\n",
    "    ZERO = 0\n",
    "    THIRTY_360_BOND = 1\n",
    "    THIRTY_E_360 = 2\n",
    "    THIRTY_E_360_ISDA = 3\n",
    "    THIRTY_E_PLUS_360 = 4\n",
    "    ACT_ACT_ISDA = 5\n",
    "    ACT_ACT_ICMA = 6\n",
    "    ACT_365F = 7\n",
    "    ACT_360 = 8\n",
    "    ACT_365L = 9\n",
    "    SIMPLE = 10"
   ]
  },
  {
   "cell_type": "code",
   "execution_count": 7,
   "id": "fd390666-60f1-4aa6-8d6e-d8651f9ca8cf",
   "metadata": {},
   "outputs": [],
   "source": [
    "def get_dmy(date: dt.date):\n",
    "    \"\"\"Returns day, month, and year of a dt.date object.\"\"\" \n",
    "    day = date.day\n",
    "    month = date.month\n",
    "    year = date.year\n",
    "    return day, month, year"
   ]
  },
  {
   "cell_type": "code",
   "execution_count": 8,
   "id": "22f05b39-61f4-4fd3-9466-9dc108812a9a",
   "metadata": {},
   "outputs": [],
   "source": [
    "def is_eom(date: dt.date):\n",
    "    \"\"\"Checks if a dt.date object is the end of a month date.\"\"\"\n",
    "    return date.day == calendar.monthrange(date.year, date.month)[1]"
   ]
  },
  {
   "cell_type": "code",
   "execution_count": 9,
   "id": "ad1fe888-f3ee-41ed-9589-3b591a78bdc6",
   "metadata": {},
   "outputs": [],
   "source": [
    "def is_leap_year(date: dt.date):\n",
    "    \"\"\"Checks is a dt.date is in a leap year.\"\"\"\n",
    "    return date.year % 4 == 0 and (date.year % 100 != 0 or date.year % 400 == 0)"
   ]
  },
  {
   "cell_type": "code",
   "execution_count": 10,
   "id": "99da885a-5254-4837-b4c4-5832eafd6849",
   "metadata": {},
   "outputs": [],
   "source": [
    "# TODO: Check if DayCount class works properly\n",
    "\n",
    "class DayCount(object):\n",
    "    \n",
    "    def __init__(self, day_count_basis_type: DayCountBasisTypes):\n",
    "        \n",
    "        self.day_count_basis_type = day_count_basis_type\n",
    "    \n",
    "    \n",
    "    def year_fraction(self,\n",
    "                  coupon_period_start: dt.date,\n",
    "                  settlement_date: dt.date,\n",
    "                  coupon_period_end: dt.date = None,\n",
    "                  frequency_type: FrequencyTypes = FrequencyTypes.ANNUAL,\n",
    "                  termination_date_flag: bool = False): # Flag to check if settlement_date is a termination date \n",
    "        \n",
    "        day_count_basis_type = self.day_count_basis_type\n",
    "        start_day, start_month, start_year = get_dmy(coupon_period_start)\n",
    "        end_day, end_month, end_year = get_dmy(settlement_date)\n",
    "        \n",
    "        if day_count_basis_type == DayCountBasisTypes.THIRTY_360_BOND:\n",
    "            if start_day == 31: start_day = 30\n",
    "            if end_day == 31 and start_day == 30: end_day = 30\n",
    "            numerator = 360 * (end_year - start_year) + 30 * (end_month - start_month) + (end_day - start_day)\n",
    "            denominator = 360\n",
    "            acc_factor = numerator / denominator\n",
    "            return acc_factor, numerator, denominator\n",
    "            \n",
    "        elif day_count_basis_type == DayCountBasisTypes.THIRTY_E_360:\n",
    "            if start_day == 31: start_day = 30\n",
    "            if end_day == 31: end_day = 30\n",
    "            numerator = 360 * (end_year - start_year) + 30 * (end_month - start_month) + (end_day - start_day)\n",
    "            denominator = 360\n",
    "            acc_factor = numerator / denominator\n",
    "            return acc_factor, numerator, denominator\n",
    "        \n",
    "        elif day_count_basis_type == DayCountBasisTypes.THIRTY_E_360_ISDA:\n",
    "            if start_day == 31: start_day = 30\n",
    "            if end_day == 31: end_day = 30\n",
    "            if start_month == 2 and is_eom(coupon_period_start) is True: start_day = 30\n",
    "            if end_month == 2 and is_eom(settlement_date) is True and termination_date_flag is False: end_day = 30\n",
    "            numerator = 360 * (end_year - start_year) + 30 * (end_month - start_month) + (end_day - start_day)\n",
    "            denominator = 360\n",
    "            acc_factor = numerator / denominator\n",
    "            return acc_factor, numerator, denominator\n",
    "        \n",
    "        elif day_count_basis_type == DayCountBasisTypes.THIRTY_E_PLUS_360:\n",
    "            if start_day == 31: start_day = 30\n",
    "            if end_day == 31: end_month, end_day = end_month + 1, 1 \n",
    "            numerator = 360 * (end_year - start_year) + 30 * (end_month - start_month) + (end_day - start_day)\n",
    "            denominator = 360\n",
    "            acc_factor = numerator / denominator\n",
    "            return acc_factor, numerator, denominator\n",
    "        \n",
    "        elif day_count_basis_type == DayCountBasisTypes.ACT_ACT_ISDA or day_count_basis_type == DayCountBasisTypes.ZERO:\n",
    "            if is_leap_year(coupon_period_start): strat_denominator = 366\n",
    "            else: start_denominator = 365\n",
    "            if is_leap_year(settlement_date): end_denominator = 366\n",
    "            else: end_denominator = 365\n",
    "            \n",
    "            if start_year == end_year:\n",
    "                numerator = (settlement_date - coupon_period_start).days\n",
    "                denominator = start_denominator\n",
    "                acc_factor = numerator / denominator\n",
    "                return acc_factor, numerator, denominator\n",
    "            \n",
    "            else:\n",
    "                start_days_year = (coupon_period_start - dt.date(start_year, 1, 1)).days\n",
    "                end_days_year = (dt.date(end_year, 1, 1) - settlement_date).days\n",
    "                acc_factor_start = start_days_year / start_denominator\n",
    "                acc_factor_end = end_days_year / end_denominator\n",
    "                numerator = start_days_year + end_days_year\n",
    "                denominator = start_denominator + end_denominator\n",
    "                year_diff = end_year - start_year - 1\n",
    "                acc_factor = acc_factor_start + acc_factor_end + year_diff\n",
    "                return acc_factor, numerator, denominator\n",
    "            \n",
    "        elif day_count_basis_type == DayCountBasisTypes.ACT_ACT_ICMA:\n",
    "            frequency = get_annual_frequency(frequency_type)\n",
    "            numerator = (settlement_date - coupon_period_start).days\n",
    "            denominator = frequency * (coupon_period_end - coupon_period_start).days\n",
    "            acc_factor = numerator / denominator\n",
    "            return acc_factor, numerator, denominator\n",
    "        \n",
    "        elif day_count_basis_type == DayCountBasisTypes.ACT_365F:\n",
    "            numerator = (settlement_date - coupon_period_start).days\n",
    "            denominator = 365\n",
    "            acc_factor = numerator / denominator\n",
    "            return acc_factor, numerator, denominator\n",
    "        \n",
    "        elif day_count_basis_type == DayCountBasisTypes.ACT_360:\n",
    "            numerator = (settlement_date - coupon_period_start).days\n",
    "            denominator = 360\n",
    "            acc_factor = numerator / denominator\n",
    "            return acc_factor, numerator, denominator\n",
    "        \n",
    "        elif day_count_basis_type == DayCountBasisTypes.ACT_365L:\n",
    "            frequency = get_annual_frequency(frequency_type)\n",
    "            if coupon_period_end == None: year_end_coupon = end_year\n",
    "            else: year_end_coupon = get_dmy(coupon_period_end)[2]\n",
    "            if is_leap_year(coupon_period_start): feb29 = dt.date(start_year, 2, 29)\n",
    "            elif is_leap_year(coupon_period_end): feb29 = dt.date(year_end_coupon, 2, 29)\n",
    "            else: feb29 = dt.date(1900, 1, 1)\n",
    "            if frequency == 1 and feb29 > coupon_period_start and feb29 <= coupon_period_end: denominator = 366\n",
    "            elif is_leap_year(coupon_period_end): denominator = 366\n",
    "            acc_factor = numerator / denominator\n",
    "            return acc_factor, numerator, denominator\n",
    "            \n",
    "        elif day_count_basis_type == DayCountBasisTypes.SIMPLE:\n",
    "            numerator = (settlement_date - coupon_period_start).days\n",
    "            denominator = DaysInYear\n",
    "            acc_factor = numerator / denominator\n",
    "            return acc_factor, numerator, denominator\n",
    "        \n",
    "        else: \n",
    "            raise ValueError(\"The {} day_count_basis_type has not yet been implemented.\".format(day_count_basis_type))\n",
    "            \n",
    "            \n",
    "    def __repr__(self):\n",
    "        return type(self).__name__\n",
    "            "
   ]
  },
  {
   "cell_type": "code",
   "execution_count": null,
   "id": "9fbef807-a157-44d9-9dcc-1b32db57f75f",
   "metadata": {},
   "outputs": [],
   "source": []
  },
  {
   "cell_type": "code",
   "execution_count": null,
   "id": "4acdbe4c-975c-4152-bac1-3ff56057efaf",
   "metadata": {},
   "outputs": [],
   "source": []
  },
  {
   "cell_type": "code",
   "execution_count": null,
   "id": "d5e0b487-4001-4c4f-ba8e-55dda31b164b",
   "metadata": {},
   "outputs": [],
   "source": []
  },
  {
   "cell_type": "code",
   "execution_count": 11,
   "id": "9f6c22c0-5076-4e34-8c12-c4ca57ee8342",
   "metadata": {},
   "outputs": [],
   "source": [
    "class CalendarTypes(Enum):\n",
    "    NONE = 1\n",
    "    WEEKEND = 2\n",
    "    AUSTRALIA = 3\n",
    "    CANADA = 4\n",
    "    FRANCE = 5\n",
    "    GERMANY = 6\n",
    "    ITALY = 7\n",
    "    JAPAN = 8\n",
    "    NEW_ZEALAND = 9\n",
    "    NORWAY = 10\n",
    "    SWEDEN = 11\n",
    "    SWITZERLAND = 12\n",
    "    TARGET = 13\n",
    "    UNITED_STATES = 14\n",
    "    UNITED_KINGDOM = 15"
   ]
  },
  {
   "cell_type": "code",
   "execution_count": 12,
   "id": "f3cc56ab-3ca8-4419-b433-b1a4e7899a08",
   "metadata": {},
   "outputs": [],
   "source": [
    "class BusinessDayAdjustTypes(Enum):\n",
    "    NONE = 1\n",
    "    FOLLOWING = 2\n",
    "    MODIFIED_FOLLOWING = 3\n",
    "    PRECEDING = 4\n",
    "    MODIFIED_PRECEDING = 5"
   ]
  },
  {
   "cell_type": "code",
   "execution_count": 13,
   "id": "dfe26606-1ca2-4585-9e5b-d45797e1ac92",
   "metadata": {},
   "outputs": [],
   "source": [
    "class DateGenRuleTypes(Enum):\n",
    "    FORWARD = 1\n",
    "    BACKWARD = 2"
   ]
  },
  {
   "cell_type": "code",
   "execution_count": 94,
   "id": "07e937d6-9c44-4acb-9135-be839728dbf3",
   "metadata": {},
   "outputs": [],
   "source": [
    "# TODO: Exclude the relevant holidays from the below lists\n",
    "# NOTE: The only case this Enum class works so far is for US\n",
    "def is_business_day(date: dt.date, calendar_type: CalendarTypes):\n",
    "    \"\"\"Checks if a date is a work day given a calendar_type.\"\"\"\n",
    "    if calendar_type == CalendarTypes.NONE: return True\n",
    "    elif date.weekday() == 5 or date.weekday() == 6: return False\n",
    "    year = date.year\n",
    "    holidays_dict = {CalendarTypes.AUSTRALIA: holidays.Australia(years = year),\n",
    "                     CalendarTypes.CANADA: holidays.Canada(years = year),\n",
    "                     CalendarTypes.FRANCE: holidays.France(years = year),\n",
    "                     CalendarTypes.GERMANY: holidays.Germany(years = year),\n",
    "                     CalendarTypes.ITALY: holidays.Italy(years = year),\n",
    "                     CalendarTypes.JAPAN: holidays.Japan(years = year),\n",
    "                     CalendarTypes.NEW_ZEALAND: holidays.NewZealand(years = year),\n",
    "                     CalendarTypes.NORWAY: holidays.Norway(years = year),\n",
    "                     CalendarTypes.SWEDEN: holidays.Sweden(years = year),\n",
    "                     CalendarTypes.SWITZERLAND: holidays.Switzerland(years = year),\n",
    "                     CalendarTypes.TARGET: {},\n",
    "                     CalendarTypes.UNITED_STATES: holidays.XNYS(years = year),\n",
    "                     CalendarTypes.UNITED_KINGDOM: holidays.UnitedKingdom(years = year)}\n",
    "    return date not in holidays_dict[calendar_type].keys()"
   ]
  },
  {
   "cell_type": "code",
   "execution_count": 15,
   "id": "a29ce9db-8bfc-4265-b0ec-d73d1f75d5dd",
   "metadata": {},
   "outputs": [],
   "source": [
    "class Calendar(object):\n",
    "    \n",
    "    def __init__(self, calendar_type: CalendarTypes):\n",
    "        \n",
    "        self.calendar_type = calendar_type\n",
    "      \n",
    "    \n",
    "    def adjust_date(self,\n",
    "                    date: dt.date,\n",
    "                    business_day_adjusment_type: BusinessDayAdjustTypes):\n",
    "        \n",
    "        calendar_type = self.calendar_type\n",
    "        \n",
    "        if calendar_type == CalendarTypes.NONE:\n",
    "            return date\n",
    "        \n",
    "        elif business_day_adjusment_type == BusinessDayAdjustTypes.NONE:\n",
    "            return date\n",
    "        \n",
    "        elif business_day_adjusment_type == BusinessDayAdjustTypes.FOLLOWING:\n",
    "            while is_business_day(date, calendar_type) is False: date += dt.timedelta(days = 1)\n",
    "            return date\n",
    "            \n",
    "        elif business_day_adjusment_type == BusinessDayAdjustTypes.MODIFIED_FOLLOWING:\n",
    "            initial_date = date\n",
    "            while is_business_day(date, calendar_type) is False: date += dt.timedelta(days = 1)\n",
    "            if date.month != initial_date.month:\n",
    "                while is_business_day(date, calendar_type) is False: date += dt.timedelta(days = -1)\n",
    "            return initial_date\n",
    "        \n",
    "        elif business_day_adjusment_type == BusinessDayAdjustTypes.PRECEDING:\n",
    "            while is_business_day(date, calendar_type) is False: date += dt.timedelta(days = -1)\n",
    "            return date\n",
    "        \n",
    "        elif business_day_adjusment_type == BusinessDayAdjustTypes.MODIFIED_PRECEDING:\n",
    "            initial_date = date\n",
    "            while is_business_day(date, calendar_type) is False: date += dt.timedelta(days = -1)\n",
    "            if date.month != initial_date.month:\n",
    "                while is_business_day(date, calendar_type) is False: date += dt.timedelta(days = +1)\n",
    "            return initial_date\n",
    "        \n",
    "        else:\n",
    "            raise ValueError(\"The {}  business_day_adjusment_type has not yet been implemented.\".format(business_day_adjusment_type))\n",
    "        \n",
    "    \n",
    "    def add_business_days(self,\n",
    "                         date: dt.date,\n",
    "                         n_days: int,\n",
    "                         calendar_type: CalendarTypes):\n",
    "    \n",
    "        count, new_date = date, 0    \n",
    "        while count != n_days:\n",
    "            new_date += dt.timedelta(days = 1)\n",
    "            if is_business_day(new_date, calendar_type): count +=1\n",
    "        return new_date\n",
    "    \n",
    "    \n",
    "    def subtract_business_days(self,\n",
    "                               n_days: int,\n",
    "                               calendar_type: CalendarTypes):\n",
    "    \n",
    "        count, new_date = date, 0    \n",
    "        while count != n_days:\n",
    "            new_date += dt.timedelta(days = -1)\n",
    "            if is_business_day(new_date, calendar_type): count +=1\n",
    "        return new_date\n",
    "        \n",
    "    \n",
    "    def __repr__(self):\n",
    "        return type(self).__name__\n",
    "    "
   ]
  },
  {
   "cell_type": "code",
   "execution_count": null,
   "id": "5aceb3f9-c82a-4a90-a800-9b3d3412b022",
   "metadata": {},
   "outputs": [],
   "source": []
  },
  {
   "cell_type": "code",
   "execution_count": null,
   "id": "4e7d926b-2d00-40ba-a0f7-e1c275b23d69",
   "metadata": {},
   "outputs": [],
   "source": []
  },
  {
   "cell_type": "code",
   "execution_count": null,
   "id": "5086be68-c415-46fc-badb-60ab56a1e965",
   "metadata": {},
   "outputs": [],
   "source": []
  },
  {
   "cell_type": "code",
   "execution_count": 93,
   "id": "f84f50c4-65be-4e5b-a30c-d729c3e3b791",
   "metadata": {},
   "outputs": [],
   "source": [
    "class PaymentSchedule(object):\n",
    "    \n",
    "    def __init__(self,\n",
    "                 effective_date: dt.date, # start date\n",
    "                 termination_date: dt.date,\n",
    "                 frequency_type: FrequencyTypes,\n",
    "                 calendar_type: CalendarTypes,\n",
    "                 business_day_adjusment_type: BusinessDayAdjustTypes,\n",
    "                 date_gen_rule_type: DateGenRuleTypes,\n",
    "                 adjust_termination_date: bool = True,\n",
    "                 eom: bool = False, # All dates are eom\n",
    "                 first_coupon_date: dt.date = None,\n",
    "                 penultimate_coupon_date = None):\n",
    "        \n",
    "        self.effective_date = effective_date\n",
    "        self.termination_date = termination_date\n",
    "        \n",
    "        if first_coupon_date == None: self.first_coupon_date = effective_date\n",
    "        else: self.first_coupon_date = first_coupon_date # TODO: calc should be automatic\n",
    "        \n",
    "        if penultimate_coupon_date == None: self.penultimate_coupon_date = termination_date\n",
    "        else: self.penultimate_coupon_date = penultimate_coupon_date # TODO: calc should be automatic\n",
    "        \n",
    "        self.frequency_type = frequency_type\n",
    "        self.calendar_type = calendar_type\n",
    "        self.business_day_adjusment_type = business_day_adjusment_type\n",
    "        self.date_gen_rule_type = date_gen_rule_type\n",
    "        self.adjust_termination_date = adjust_termination_date\n",
    "        self.eom = eom\n",
    "        \n",
    "        self.adjusted_schedule_dates = []\n",
    "        self.generate_payment_schedule()\n",
    "        \n",
    "        \n",
    "    # TODO: Vectorize this fuction - current nested loop implementation is not efficient.\n",
    "    # TODO: Figure out if the function is handling correctly effective_date and termination_date  \n",
    "    def generate_payment_schedule(self):\n",
    "\n",
    "        calendar_obj = Calendar(self.calendar_type)\n",
    "        frequency = get_annual_frequency(self.frequency_type)\n",
    "        num_months = int(12/frequency)\n",
    "        unadjusted_schedule_dates = []\n",
    "\n",
    "        if self.date_gen_rule_type == DateGenRuleTypes.BACKWARD:\n",
    "            next_date = self.termination_date\n",
    "            flow_num = 0\n",
    "\n",
    "            while next_date > self.effective_date:\n",
    "                unadjusted_schedule_dates.append(next_date)\n",
    "                next_date = self.termination_date + relativedelta(months=-num_months*(1+flow_num))\n",
    "                if self.eom and next_date > self.effective_date: \n",
    "                    next_date = dt.date(next_date.year,\n",
    "                                        next_date.month,\n",
    "                                        calendar.monthrange(next_date.year, next_date.month)[1])\n",
    "                flow_num += 1\n",
    "            \n",
    "            unadjusted_schedule_dates.append(self.effective_date)\n",
    "            flow_num += 1\n",
    "            date = unadjusted_schedule_dates[flow_num - 1]\n",
    "            self.adjusted_schedule_dates.append(date)\n",
    "\n",
    "            for i in range(1, flow_num - 1):\n",
    "                date = calendar_obj.adjust_date(unadjusted_schedule_dates[flow_num-i-1],\n",
    "                                              self.business_day_adjusment_type)\n",
    "                self.adjusted_schedule_dates.append(date)\n",
    "\n",
    "            self.adjusted_schedule_dates.append(self.termination_date)\n",
    "\n",
    "        # FIXME: This part is more than likely wrong\n",
    "        elif self.date_gen_rule_type == DateGenRuleTypes.FORWARD:\n",
    "            next_date = self.effective_date\n",
    "            flow_num = 0\n",
    "\n",
    "            while next_date < self.termination_date:\n",
    "                unadjusted_schedule_dates.append(next_date)\n",
    "                next_date = self.termination_date + relativedelta(months=num_months*(1+flow_num))\n",
    "                if self.eom and next_date < self.termination_date:\n",
    "                    next_date = dt.date(next_date.year, next_date.month, calendar.monthrange(next_date.year, next_date.month)[1])\n",
    "                flow_num += 1\n",
    "\n",
    "            self.adjusted_schedule_dates.append(effective_date)\n",
    "\n",
    "            for i in range(1, flow_num-1):\n",
    "                date = calendar_obj.adjust_date(unadjusted_schedule_dates[i],\n",
    "                                                self.business_day_adjusment_type)\n",
    "                self.adjusted_schedule_dates.append(date)\n",
    "\n",
    "            if self.adjust_termination_date: \n",
    "                self.termination_date = calendar_obj.adjust_date(self.termination_date,\n",
    "                                                                 self.business_day_adjusment_type)\n",
    "            self.adjusted_schedule_dates.append(self.termination_date)\n",
    "\n",
    "\n",
    "    def __repr__(self):\n",
    "        return type(self).__name__\n",
    "    \n",
    "        "
   ]
  },
  {
   "cell_type": "code",
   "execution_count": 84,
   "id": "bcca0684-b86a-42ac-9cdd-17e0c9b5a1fe",
   "metadata": {},
   "outputs": [],
   "source": [
    "payment_schedule = PaymentSchedule(effective_date = dt.date(2023, 1, 10),\n",
    "                                   termination_date = dt.date(2028, 1, 1),\n",
    "                                   frequency_type = FrequencyTypes.QUARTERLY,\n",
    "                                   calendar_type = CalendarTypes.UNITED_STATES,\n",
    "                                   business_day_adjusment_type = BusinessDayAdjustTypes.FOLLOWING,\n",
    "                                   date_gen_rule_type = DateGenRuleTypes.BACKWARD,\n",
    "                                   adjust_termination_date = False,\n",
    "                                   eom = True,\n",
    "                                   first_coupon_date = None,\n",
    "                                   penultimate_coupon_date = None)"
   ]
  },
  {
   "cell_type": "code",
   "execution_count": null,
   "id": "919eea12-0487-4fca-82d7-f1d330913818",
   "metadata": {},
   "outputs": [],
   "source": []
  },
  {
   "cell_type": "code",
   "execution_count": null,
   "id": "c2b82b6b-f3be-461e-b8d5-30d15a24c0b1",
   "metadata": {},
   "outputs": [],
   "source": []
  },
  {
   "cell_type": "code",
   "execution_count": null,
   "id": "0f49907a-9ae2-4769-b177-ade4daf9929b",
   "metadata": {},
   "outputs": [],
   "source": []
  },
  {
   "cell_type": "markdown",
   "id": "2aebd978-f33b-4fd1-9c0c-a4902220c621",
   "metadata": {},
   "source": [
    "### Discount Curve"
   ]
  },
  {
   "cell_type": "code",
   "execution_count": 98,
   "id": "44b33d1b-7318-4432-a6aa-7ca3eee09c3a",
   "metadata": {},
   "outputs": [],
   "source": [
    "import numpy as np\n",
    "import datetime as dt\n",
    "from enum import Enum"
   ]
  },
  {
   "cell_type": "code",
   "execution_count": 100,
   "id": "71babba0-4580-4a01-a54c-449e977b9aab",
   "metadata": {},
   "outputs": [],
   "source": [
    "class InterpolatorTypes(Enum):\n",
    "    LINEAR = 1\n",
    "    NELSON_SIGEL = 2\n",
    "    CUBIC_SPLINE = 3"
   ]
  },
  {
   "cell_type": "code",
   "execution_count": 99,
   "id": "f284a290-df6b-4846-a1e3-045ef5c9016c",
   "metadata": {},
   "outputs": [],
   "source": [
    "class DiscountCurvesTypes(Enum):\n",
    "    LIBOR = 1\n",
    "    SOFR = 2"
   ]
  },
  {
   "cell_type": "code",
   "execution_count": 101,
   "id": "b4ada81b-a879-44fd-a452-9561b5f9a030",
   "metadata": {},
   "outputs": [],
   "source": [
    "class DiscountCurve(object):\n",
    "    \n",
    "    def __init__(self,\n",
    "                 valuation_date: dt.date,\n",
    "                 dates: list,\n",
    "                 discount_factors: list,\n",
    "                 calendar_type: CalendarTypes,\n",
    "                 interpolator_type: InterpolatorTypes): \n",
    "            \n",
    "        self.valuation_date = valuation_date\n",
    "        self.dates = dates\n",
    "        self.discount_factors = discount_factors\n",
    "        self.calendar_type = calendar_type\n",
    "        self.interpolator_type = interpolator_type\n",
    "        self.jumps = jumps\n",
    "        self.jump_dates = jump_dates\n",
    "    \n",
    "    \n",
    "    \n",
    "    "
   ]
  },
  {
   "cell_type": "markdown",
   "id": "e0fc3670-0ae3-4b67-8bd1-f721e4f53ea1",
   "metadata": {},
   "source": [
    "### Interest Rate Swap"
   ]
  },
  {
   "cell_type": "code",
   "execution_count": 96,
   "id": "9b949eb1-3ce3-48cf-9fb5-ac419d10ddc0",
   "metadata": {},
   "outputs": [],
   "source": [
    "import numpy as np\n",
    "import datetime as dt\n",
    "from enum import Enum "
   ]
  },
  {
   "cell_type": "code",
   "execution_count": 95,
   "id": "4422ba00-6edf-4485-8a3d-212128452275",
   "metadata": {},
   "outputs": [],
   "source": [
    "class SwapTypes(Enum):\n",
    "    PAY = 1\n",
    "    RECEIVE = 2"
   ]
  },
  {
   "cell_type": "code",
   "execution_count": null,
   "id": "919bfee7-6c4b-4a04-9431-9695911896fc",
   "metadata": {},
   "outputs": [],
   "source": [
    "class IRSwapLeg(object):\n",
    "    \n",
    "    def __init__(self):\n",
    "        \n",
    "        pass\n",
    "    \n",
    "    \n",
    "    def build_cash_flows(self):\n",
    "        \n",
    "        pass\n",
    "        \n",
    "        \n",
    "        \n",
    "    \n",
    "    \n",
    "    \n",
    "    "
   ]
  },
  {
   "cell_type": "code",
   "execution_count": null,
   "id": "121418b6-9c49-46b6-9bc6-d8ace06e4506",
   "metadata": {},
   "outputs": [],
   "source": []
  },
  {
   "cell_type": "code",
   "execution_count": null,
   "id": "2c96ca4a-4fa5-4bbf-8f22-3c5466051bed",
   "metadata": {},
   "outputs": [],
   "source": []
  },
  {
   "cell_type": "code",
   "execution_count": null,
   "id": "5a3805c2-2139-4809-bf60-ea4cbd43275e",
   "metadata": {},
   "outputs": [],
   "source": []
  },
  {
   "cell_type": "code",
   "execution_count": null,
   "id": "d8129f23-fb60-4f55-b6fd-20f2a6bdb13a",
   "metadata": {},
   "outputs": [],
   "source": []
  },
  {
   "cell_type": "code",
   "execution_count": null,
   "id": "95f71b3a-3082-4bc7-9f59-be88accc5c29",
   "metadata": {},
   "outputs": [],
   "source": []
  },
  {
   "cell_type": "code",
   "execution_count": null,
   "id": "e2dc1e77-ff68-4604-939c-ff8c69c67584",
   "metadata": {},
   "outputs": [],
   "source": []
  },
  {
   "cell_type": "markdown",
   "id": "7162bb4c-f473-4e9d-849f-f7b0488e7907",
   "metadata": {
    "pycharm": {
     "name": "#%%\n"
    }
   },
   "source": [
    "### Interest Rate Swap"
   ]
  },
  {
   "cell_type": "code",
   "execution_count": null,
   "id": "1dc7ad41-da98-43b3-80e5-804bfc4dc2e5",
   "metadata": {},
   "outputs": [],
   "source": [
    "class IRSwap(object):\n",
    "    \n",
    "    def __init__(self,\n",
    "                 pay_or_receive,\n",
    "                 notional,\n",
    "                 termination_date,\n",
    "                 effective_date,\n",
    "                 frequency,\n",
    "                 basis):\n",
    "        \n",
    "        self.pay_or_receive = pay_or_receive \n",
    "        self.notional = notional\n",
    "        self.termination_date = termination_date\n",
    "        self.effective_date = effective_date\n",
    "        self.frequency = frequency\n",
    "        self.basis = basis"
   ]
  },
  {
   "cell_type": "code",
   "execution_count": null,
   "id": "f4d45770-ec98-43ab-8298-909eb323cbaf",
   "metadata": {},
   "outputs": [],
   "source": []
  },
  {
   "cell_type": "code",
   "execution_count": null,
   "id": "ad4320c0-60b4-46a2-aaec-d2e5c1a26d52",
   "metadata": {},
   "outputs": [],
   "source": []
  },
  {
   "cell_type": "code",
   "execution_count": null,
   "id": "e8d1a243-19e0-4ae4-aa8f-3dba1fadb986",
   "metadata": {},
   "outputs": [],
   "source": []
  },
  {
   "cell_type": "markdown",
   "id": "de555f07-d0b7-42c9-9abc-805529bf36b8",
   "metadata": {
    "pycharm": {
     "name": "#%%\n"
    }
   },
   "source": [
    "### Interest Rate Swaption"
   ]
  },
  {
   "cell_type": "code",
   "execution_count": null,
   "id": "13de3de6-23e0-45de-87d8-d97d454153f5",
   "metadata": {
    "pycharm": {
     "name": "#%%\n"
    }
   },
   "outputs": [],
   "source": []
  },
  {
   "cell_type": "code",
   "execution_count": null,
   "id": "9ef6ebd3-b3a4-4ec2-b16d-309b66e1da34",
   "metadata": {
    "pycharm": {
     "name": "#%%\n"
    }
   },
   "outputs": [],
   "source": []
  },
  {
   "cell_type": "code",
   "execution_count": null,
   "id": "bc7d8aa4-d436-43e7-974e-f4184a9c0e3a",
   "metadata": {
    "pycharm": {
     "name": "#%%\n"
    }
   },
   "outputs": [],
   "source": []
  },
  {
   "cell_type": "code",
   "execution_count": null,
   "id": "a124165d-bedf-49e8-894a-b4589530458b",
   "metadata": {
    "pycharm": {
     "name": "#%%\n"
    }
   },
   "outputs": [],
   "source": []
  },
  {
   "cell_type": "code",
   "execution_count": null,
   "id": "4dba1af6-589d-48ca-814b-b6363b0c71c5",
   "metadata": {
    "pycharm": {
     "name": "#%%\n"
    }
   },
   "outputs": [],
   "source": []
  },
  {
   "cell_type": "code",
   "execution_count": null,
   "id": "43bc1ac0-cf86-489f-8caa-32da4d8dade5",
   "metadata": {
    "pycharm": {
     "name": "#%%\n"
    }
   },
   "outputs": [],
   "source": []
  },
  {
   "cell_type": "code",
   "execution_count": null,
   "id": "33566238-621e-484b-a4d4-da69e0b93725",
   "metadata": {
    "pycharm": {
     "name": "#%%\n"
    }
   },
   "outputs": [],
   "source": []
  },
  {
   "cell_type": "code",
   "execution_count": null,
   "id": "3c00c635-ece0-414a-9631-cdd437ca08ab",
   "metadata": {
    "pycharm": {
     "name": "#%%\n"
    }
   },
   "outputs": [],
   "source": []
  },
  {
   "cell_type": "code",
   "execution_count": null,
   "id": "74691e41-19f0-4b48-a519-57a37c3d2578",
   "metadata": {
    "pycharm": {
     "name": "#%%\n"
    }
   },
   "outputs": [],
   "source": []
  },
  {
   "cell_type": "code",
   "execution_count": null,
   "id": "2c23c367-d582-4042-a734-7ee812a4d695",
   "metadata": {
    "pycharm": {
     "name": "#%%\n"
    }
   },
   "outputs": [],
   "source": []
  },
  {
   "cell_type": "code",
   "execution_count": null,
   "id": "1a385f1a-fbf9-4d18-a99c-fe231fa414eb",
   "metadata": {
    "pycharm": {
     "name": "#%%\n"
    }
   },
   "outputs": [],
   "source": []
  },
  {
   "cell_type": "code",
   "execution_count": null,
   "id": "1ae4b229-a2dd-449b-88b8-9b9270b8fe6c",
   "metadata": {
    "pycharm": {
     "name": "#%%\n"
    }
   },
   "outputs": [],
   "source": []
  },
  {
   "cell_type": "code",
   "execution_count": null,
   "id": "82adc011-15b8-4c12-82bd-5f91532cb974",
   "metadata": {
    "pycharm": {
     "name": "#%%\n"
    }
   },
   "outputs": [],
   "source": []
  }
 ],
 "metadata": {
  "kernelspec": {
   "display_name": "Python 3 (ipykernel)",
   "language": "python",
   "name": "python3"
  },
  "language_info": {
   "codemirror_mode": {
    "name": "ipython",
    "version": 3
   },
   "file_extension": ".py",
   "mimetype": "text/x-python",
   "name": "python",
   "nbconvert_exporter": "python",
   "pygments_lexer": "ipython3",
   "version": "3.9.15"
  }
 },
 "nbformat": 4,
 "nbformat_minor": 5
}
