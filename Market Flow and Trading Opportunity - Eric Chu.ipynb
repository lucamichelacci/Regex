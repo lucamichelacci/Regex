{
 "cells": [
  {
   "cell_type": "markdown",
   "metadata": {},
   "source": [
    "## FINM33150 Market Flow and Trading Opportunity\n",
    "#### Eric Chu"
   ]
  },
  {
   "cell_type": "code",
   "execution_count": 259,
   "metadata": {},
   "outputs": [],
   "source": [
    "# import libraries\n",
    "import pandas as pd\n",
    "import numpy as np\n",
    "import matplotlib.pyplot as plt\n",
    "%matplotlib inline\n",
    "import statsmodels.api as sm\n",
    "from datetime import timedelta, date\n",
    "from datetime import datetime\n",
    "import threading"
   ]
  },
  {
   "cell_type": "markdown",
   "metadata": {},
   "source": [
    "### Import data\n",
    "###### Trade data"
   ]
  },
  {
   "cell_type": "code",
   "execution_count": 260,
   "metadata": {},
   "outputs": [
    {
     "name": "stdout",
     "output_type": "stream",
     "text": [
      "BTC/USD Trades Control Total: 6268838\n",
      "ETH/BTC Trades Control Total: 32744\n",
      "ETH/USD Trades Control Total: 306798\n"
     ]
    }
   ],
   "source": [
    "# Trade data\n",
    "trades_BTC_USD = pd.read_csv('trades_narrow_BTC-USD_2021.delim.gz', compression ='gzip', sep ='\\t')\n",
    "print('BTC/USD Trades Control Total: %d' % len(trades_BTC_USD))\n",
    "\n",
    "trades_ETH_BTC = pd.read_csv('trades_narrow_ETH-BTC_2021.delim.gz', compression ='gzip', sep ='\\t')\n",
    "print('ETH/BTC Trades Control Total: %d' % len(trades_ETH_BTC))\n",
    "\n",
    "trades_ETH_USD = pd.read_csv('trades_narrow_ETH-USD_2021.delim.gz', compression ='gzip', sep ='\\t')\n",
    "print('ETH/USD Trades Control Total: %d' % len(trades_ETH_USD))"
   ]
  },
  {
   "cell_type": "markdown",
   "metadata": {},
   "source": [
    "###### Book Data"
   ]
  },
  {
   "cell_type": "code",
   "execution_count": 261,
   "metadata": {},
   "outputs": [
    {
     "name": "stdout",
     "output_type": "stream",
     "text": [
      "BTC/USD Book Control Total: 15000000\n",
      "ETH/BTC Book Control Total: 2569095\n",
      "ETH/USD Book Control Total: 11802439\n"
     ]
    }
   ],
   "source": [
    "# # Book data\n",
    "# book_BTC_USD = pd.read_csv('book_narrow_BTC-USD_2021.delim.gz', compression ='gzip', sep ='\\t')\n",
    "# print('BTC/USD Book Control Total: %d' % len(book_BTC_USD))\n",
    "\n",
    "# book_ETH_BTC = pd.read_csv('book_narrow_ETH-BTC_2021.delim.gz', compression ='gzip', sep ='\\t')\n",
    "# print('ETH/BTC Book Control Total: %d' % len(book_ETH_BTC))\n",
    "\n",
    "# book_ETH_USD = pd.read_csv('book_narrow_ETH-USD_2021.delim.gz', compression ='gzip', sep ='\\t')\n",
    "# print('ETH/USD Book Control Total: %d' % len(book_ETH_USD))"
   ]
  },
  {
   "cell_type": "markdown",
   "metadata": {},
   "source": [
    "###### Index data on timestamp"
   ]
  },
  {
   "cell_type": "code",
   "execution_count": 262,
   "metadata": {},
   "outputs": [],
   "source": [
    "# Trade data\n",
    "trades_BTC_USD.set_index('timestamp_utc_nanoseconds', inplace = True)\n",
    "trades_ETH_BTC.set_index('timestamp_utc_nanoseconds', inplace = True)\n",
    "trades_ETH_USD.set_index('timestamp_utc_nanoseconds', inplace = True)\n",
    "\n",
    "# Book data\n",
    "book_BTC_USD.set_index('timestamp_utc_nanoseconds', inplace = True)\n",
    "book_ETH_BTC.set_index('timestamp_utc_nanoseconds', inplace = True)\n",
    "book_ETH_USD.set_index('timestamp_utc_nanoseconds', inplace = True)"
   ]
  },
  {
   "cell_type": "markdown",
   "metadata": {},
   "source": [
    "###### Clean and prep the data a bit\n",
    "Size = this is the directional size of the trade using the side column  \n",
    "Notional Size - this is the price multiplied by the size. This will be used to calculate VWAP as an average price for each nanosecond  \n",
    "Data is aggregated from tick to the nanosecond level"
   ]
  },
  {
   "cell_type": "code",
   "execution_count": 268,
   "metadata": {},
   "outputs": [],
   "source": [
    "# Data cleaning\n",
    "def data_clean(df):\n",
    "    df['Size'] = df['SizeBillionths'] * np.where(df['Side'] > 0, 1, -1)\n",
    "    df['notional size'] = df['PriceMillionths'] * df['SizeBillionths']\n",
    "    # Create VWAP column for the price at each tick\n",
    "    df_out = df.groupby(df.index).agg({'Size':'sum',\n",
    "                                                'SizeBillionths':'sum',\n",
    "                                                'notional size':'sum'})\n",
    "    df_out['VWAP'] = df_out['notional size'] / df_out['SizeBillionths']\n",
    "    return df_out"
   ]
  },
  {
   "cell_type": "code",
   "execution_count": 269,
   "metadata": {},
   "outputs": [
    {
     "name": "stdout",
     "output_type": "stream",
     "text": [
      "BTC/USD ns level Control Total: 4896190\n",
      "ETH/BTC ns level Control Total: 31399\n",
      "ETH/USD ns level Control Total: 260713\n"
     ]
    }
   ],
   "source": [
    "trades_BTC_USD_VWAP = data_clean(trades_BTC_USD)\n",
    "print('BTC/USD ns level Control Total: %d' % len(trades_BTC_USD_VWAP))\n",
    "trades_ETH_BTC_VWAP = data_clean(trades_ETH_BTC)\n",
    "print('ETH/BTC ns level Control Total: %d' % len(trades_ETH_BTC_VWAP))\n",
    "trades_ETH_USD_VWAP = data_clean(trades_ETH_USD)\n",
    "print('ETH/USD ns level Control Total: %d' % len(trades_ETH_USD_VWAP))"
   ]
  },
  {
   "cell_type": "markdown",
   "metadata": {},
   "source": [
    "### Split data into test and train"
   ]
  },
  {
   "cell_type": "code",
   "execution_count": 270,
   "metadata": {},
   "outputs": [],
   "source": [
    "###### Split datasets into train and test sets\n",
    "def split_data(df, percent = .2):\n",
    "    end_i = int(round(len(df) * .20, 0))\n",
    "    train = df.iloc[:end_i]\n",
    "    test = df.iloc[end_i:]\n",
    "    return train, test"
   ]
  },
  {
   "cell_type": "code",
   "execution_count": 271,
   "metadata": {},
   "outputs": [
    {
     "name": "stdout",
     "output_type": "stream",
     "text": [
      "BTC/USD Train Control Total: 979238\n",
      "BTC/USD Test Control Total: 3916952\n",
      "\n",
      "ETH/BTC Train Control Total: 6280\n",
      "ETH/BTC Test Control Total: 25119\n",
      "\n",
      "ETH/USD Train Control Total: 52143\n",
      "ETH/USD Test Control Total: 208570\n",
      "\n"
     ]
    }
   ],
   "source": [
    "train_BTC_USD, test_BTC_USD = split_data(trades_BTC_USD_VWAP)\n",
    "print('BTC/USD Train Control Total: %d' % len(train_BTC_USD))\n",
    "print('BTC/USD Test Control Total: %d\\n' % len(test_BTC_USD))\n",
    "\n",
    "train_ETH_BTC, test_ETH_BTC = split_data(trades_ETH_BTC_VWAP)\n",
    "print('ETH/BTC Train Control Total: %d' % len(train_ETH_BTC))\n",
    "print('ETH/BTC Test Control Total: %d\\n' % len(test_ETH_BTC))\n",
    "\n",
    "train_ETH_USD, test_ETH_USD = split_data(trades_ETH_USD_VWAP)\n",
    "print('ETH/USD Train Control Total: %d' % len(train_ETH_USD))\n",
    "print('ETH/USD Test Control Total: %d\\n' % len(test_ETH_USD))"
   ]
  },
  {
   "cell_type": "markdown",
   "metadata": {},
   "source": [
    "### Calculate T interval trade flow prior to each trade data point"
   ]
  },
  {
   "cell_type": "markdown",
   "metadata": {},
   "source": [
    "We use the following formula to calculate trade flow\n",
    "$$ F_{t}^{(T)} = V_{(t-\\tau,t)}^B - V_{(t-\\tau,t)}^S $$"
   ]
  },
  {
   "cell_type": "code",
   "execution_count": 279,
   "metadata": {},
   "outputs": [],
   "source": [
    "# create a function to calculate T-window tradeflow, \n",
    "def tradeflow(df, t):\n",
    "    tau = t * (10**9)\n",
    "    x = datetime.now()\n",
    "    print('Start: ' + str(x))\n",
    "    # consolidate trade sizes by time\n",
    "    dfout = df.copy()\n",
    "    \n",
    "    # get start and end parameters for each row in the dataframe\n",
    "    dfout['start'] = dfout.index - tau\n",
    "    dfout['end'] = dfout.index - 1\n",
    "    \n",
    "    # list to append flow values to\n",
    "    calcs = []\n",
    "    \n",
    "    # locks for threading\n",
    "    flag = threading.Lock()\n",
    "    flag2 = threading.Lock()\n",
    "    \n",
    "    # divide threading job up\n",
    "    n = 6\n",
    "    interval = len(dfout) // n\n",
    "\n",
    "    # function to get flow values\n",
    "    def ops (dfin, start, stop):\n",
    "        flag.acquire()\n",
    "        df_temp = dfin.copy()\n",
    "        flag.release()\n",
    "        temp_list = []\n",
    "        for i in range(start,stop):\n",
    "            index_val = df_temp.index[i]\n",
    "            start = df_temp.loc[index_val,'start']\n",
    "            end = df_temp.loc[index_val,'end']\n",
    "            flow = df_temp.loc[start:end]['Size'].sum()\n",
    "            temp_list.append((index_val,flow))\n",
    "        \n",
    "        flag2.acquire()\n",
    "        nonlocal calcs\n",
    "        calcs += temp_list\n",
    "        flag2.release()\n",
    "        \n",
    "    # multithread the above procedures\n",
    "    threads = []\n",
    "    \n",
    "    for i in range(n):\n",
    "        s = i*interval\n",
    "        e = (i+1) * interval\n",
    "        if i == (n-1):\n",
    "            e = len(dfout)\n",
    "        t = threading.Thread(target = ops, args = (dfout,s,e))\n",
    "        threads.append(t)\n",
    "        t.start()\n",
    "    \n",
    "    for t in threads:\n",
    "        t.join()\n",
    "    \n",
    "    # append results to dataframe\n",
    "    calcs_pd = pd.DataFrame(calcs)\n",
    "    calcs_pd.set_index(0,inplace = True)\n",
    "    calcs_pd.rename(columns = {1:'tradeflow'}, inplace = True)\n",
    "    dfout = pd.concat([dfout,calcs_pd], axis = 1)\n",
    "\n",
    "        \n",
    "    # cut off the beginning of data equal to tau since those values of Trading Flow are not properly calculated\n",
    "    cutoff = dfout.index[0] + tau\n",
    "    dfout = dfout.loc[cutoff:]\n",
    "    \n",
    "    dfout.drop(columns = ['start','end'], axis = 1, inplace = True)\n",
    "    dfout.index = pd.to_datetime(dfout.index)\n",
    "    print(datetime.now()-x)\n",
    "    \n",
    "    return dfout"
   ]
  },
  {
   "cell_type": "code",
   "execution_count": 280,
   "metadata": {},
   "outputs": [
    {
     "name": "stdout",
     "output_type": "stream",
     "text": [
      "Start: 2022-02-07 04:02:26.013178\n",
      "0:00:01.584548\n",
      "Start: 2022-02-07 04:02:27.598751\n",
      "0:00:12.776558\n",
      "Start: 2022-02-07 04:02:40.384272\n",
      "0:00:01.530625\n",
      "Start: 2022-02-07 04:02:41.914897\n",
      "0:00:12.657024\n",
      "Start: 2022-02-07 04:02:54.580897\n",
      "0:00:01.524551\n",
      "Start: 2022-02-07 04:02:56.106446\n",
      "0:00:12.703690\n",
      "BTC/USD 1s Control Total: 1005463\n",
      "ETH/BTC 1s Control Total: 6278\n",
      "ETH/USD 1s Control Total: 52140\n",
      "BTC/USD 5s Control Total: 0\n",
      "ETH/BTC 5s Control Total: 6278\n",
      "ETH/USD 5s Control Total: 52132\n",
      "BTC/USD 10s Control Total: 0\n",
      "ETH/BTC 10s Control Total: 6277\n",
      "ETH/USD 10s Control Total: 52123\n"
     ]
    }
   ],
   "source": [
    "# train_BTC_USD_1s = tradeflow(train_BTC_USD,1)\n",
    "train_ETH_BTC_1s = tradeflow(train_ETH_BTC,1)\n",
    "train_ETH_USD_1s = tradeflow(train_ETH_USD,1)\n",
    "\n",
    "# train_BTC_USD_5s = tradeflow(train_BTC_USD,5)\n",
    "train_ETH_BTC_5s = tradeflow(train_ETH_BTC,5)\n",
    "train_ETH_USD_5s = tradeflow(train_ETH_USD,5)\n",
    "\n",
    "# train_BTC_USD_10s = tradeflow(train_BTC_USD,10)\n",
    "train_ETH_BTC_10s = tradeflow(train_ETH_BTC,10)\n",
    "train_ETH_USD_10s = tradeflow(train_ETH_USD,10)\n",
    "\n",
    "# print('BTC/USD 1s Control Total: %d' % len(train_BTC_USD_1s))\n",
    "print('ETH/BTC 1s Control Total: %d' % len(train_ETH_BTC_1s))\n",
    "print('ETH/USD 1s Control Total: %d' % len(train_ETH_USD_1s))\n",
    "\n",
    "# print('BTC/USD 5s Control Total: %d' % len(train_BTC_USD_5s))\n",
    "print('ETH/BTC 5s Control Total: %d' % len(train_ETH_BTC_5s))\n",
    "print('ETH/USD 5s Control Total: %d' % len(train_ETH_USD_5s))\n",
    "\n",
    "# print('BTC/USD 10s Control Total: %d' % len(train_BTC_USD_10s))\n",
    "print('ETH/BTC 10s Control Total: %d' % len(train_ETH_BTC_10s))\n",
    "print('ETH/USD 10s Control Total: %d' % len(train_ETH_USD_10s))"
   ]
  },
  {
   "cell_type": "markdown",
   "metadata": {},
   "source": [
    "###### Calculate returns at time T"
   ]
  },
  {
   "cell_type": "code",
   "execution_count": 281,
   "metadata": {},
   "outputs": [],
   "source": [
    "# function that takes a dataframe and returns a column with the time T returns\n",
    "def time_T_ret(df,t):\n",
    "    tau = t * (10**9)\n",
    "    later = df['VWAP'].reindex(df.index + pd.Timedelta(tau, unit='ns'), method = 'ffill')\n",
    "    later.index = df.index\n",
    "    ret2 = later / df['VWAP'] - 1\n",
    "    returns_2_day = pd.DataFrame({'Time-T Return':ret2})\n",
    "    out = pd.concat([df,returns_2_day], axis=1)\n",
    "    return out"
   ]
  },
  {
   "cell_type": "code",
   "execution_count": 282,
   "metadata": {},
   "outputs": [],
   "source": [
    "# train_BTC_USD_1s_full = time_T_ret(train_BTC_USD_1s,19)\n",
    "train_ETH_BTC_1s_full = time_T_ret(train_ETH_BTC_1s,1)\n",
    "train_ETH_USD_1s_full = time_T_ret(train_ETH_USD_1s,1)\n",
    "\n",
    "# train_BTC_USD_5s_full = time_T_ret(train_BTC_USD_5s,5)\n",
    "train_ETH_BTC_5s_full = time_T_ret(train_ETH_BTC_5s,5)\n",
    "train_ETH_USD_5s_full = time_T_ret(train_ETH_USD_5s,5)\n",
    "\n",
    "# train_BTC_USD_10s_full = time_T_ret(train_BTC_USD_10s,10)\n",
    "train_ETH_BTC_10s_full = time_T_ret(train_ETH_BTC_10s,10)\n",
    "train_ETH_USD_10s_full = time_T_ret(train_ETH_USD_10s,10)"
   ]
  },
  {
   "cell_type": "markdown",
   "metadata": {},
   "source": [
    "###### Perform regression of the returns on the tradeflow and get the betas to use on the test sets"
   ]
  },
  {
   "cell_type": "code",
   "execution_count": 284,
   "metadata": {},
   "outputs": [],
   "source": [
    "def regression(df):\n",
    "    x = sm.add_constant(df['tradeflow'])\n",
    "    y = df['Time-T Return']\n",
    "\n",
    "    # good ole OLS\n",
    "    model = sm.OLS(y,x)\n",
    "\n",
    "    reg = model.fit()\n",
    "\n",
    "#     print(reg.summary())\n",
    "    \n",
    "    return reg.params[1]"
   ]
  },
  {
   "cell_type": "code",
   "execution_count": 285,
   "metadata": {},
   "outputs": [],
   "source": [
    "# BTC_USD_1s_beta = regression(train_BTC_USD_1s_full)\n",
    "ETH_BTC_1s_beta = regression(train_ETH_BTC_1s_full)\n",
    "ETH_USD_1s_beta = regression(train_ETH_USD_1s_full)\n",
    "\n",
    "# BTC_USD_5s_beta = regression(train_BTC_USD_5s_full)\n",
    "ETH_BTC_5s_beta = regression(train_ETH_BTC_5s_full)\n",
    "ETH_USD_5s_beta = regression(train_ETH_USD_5s_full)\n",
    "\n",
    "# BTC_USD_10s_beta = regression(train_BTC_USD_10s_full)\n",
    "ETH_BTC_10s_beta = regression(train_ETH_BTC_10s_full)\n",
    "ETH_USD_10s_beta = regression(train_ETH_USD_10s_full)"
   ]
  },
  {
   "cell_type": "markdown",
   "metadata": {},
   "source": [
    "###### Use betas on test sets"
   ]
  },
  {
   "cell_type": "code",
   "execution_count": 288,
   "metadata": {},
   "outputs": [],
   "source": [
    "def trade(df,beta,t,j, label):\n",
    "    j = j\n",
    "    apply_beta = tradeflow(df,t)\n",
    "    get_ret = time_T_ret(apply_beta,t)\n",
    "    get_ret['beta'] = beta\n",
    "    get_ret['predicted'] = get_ret['beta'] * get_ret['tradeflow']\n",
    "\n",
    "    def position(x):\n",
    "        nonlocal j\n",
    "        if x > j:\n",
    "            return 1\n",
    "        elif x < -j:\n",
    "            return -1\n",
    "        else:\n",
    "            return 0\n",
    "    \n",
    "    get_ret['trade_position'] = get_ret['predicted'].apply(position)\n",
    "\n",
    "    get_ret['trade_return'] = get_ret['Time-T Return'] * get_ret['trade_position']\n",
    "    \n",
    "    shorts = len(get_ret[get_ret['trade_position'] == -1])\n",
    "    longs = len(get_ret[get_ret['trade_position'] == 1])\n",
    "    total = shorts + longs\n",
    "    print('*****************************\\n' + label + '\\n*****************************')\n",
    "    print(\"Long positions: %d\\nShort positions: %d\\nTotal Positions: %d\" % (longs,shorts,total))\n",
    "\n",
    "    print('Predicted Trade EV: %.6f\\n\\n' % get_ret['trade_return'].sum())"
   ]
  },
  {
   "cell_type": "code",
   "execution_count": 290,
   "metadata": {},
   "outputs": [
    {
     "name": "stdout",
     "output_type": "stream",
     "text": [
      "Start: 2022-02-07 04:06:55.613912\n",
      "0:00:08.700068\n",
      "*****************************\n",
      "ETH_BTC 1s Stragety\n",
      "*****************************\n",
      "Long positions: 122\n",
      "Short positions: 155\n",
      "Total Positions: 277\n",
      "Predicted Trade EV: 0.005749\n",
      "\n",
      "\n",
      "Start: 2022-02-07 04:07:04.372823\n",
      "0:00:52.126431\n",
      "*****************************\n",
      "ETH_USD 1s Stragety\n",
      "*****************************\n",
      "Long positions: 48463\n",
      "Short positions: 102885\n",
      "Total Positions: 151348\n",
      "Predicted Trade EV: -9641.600761\n",
      "\n",
      "\n",
      "Start: 2022-02-07 04:07:56.782070\n",
      "0:00:06.114111\n",
      "*****************************\n",
      "ETH_BTC 5s Stragety\n",
      "*****************************\n",
      "Long positions: 0\n",
      "Short positions: 1\n",
      "Total Positions: 1\n",
      "Predicted Trade EV: 0.000000\n",
      "\n",
      "\n",
      "Start: 2022-02-07 04:08:02.933064\n",
      "0:00:50.771878\n",
      "*****************************\n",
      "ETH_USD 5s Stragety\n",
      "*****************************\n",
      "Long positions: 69066\n",
      "Short positions: 137264\n",
      "Total Positions: 206330\n",
      "Predicted Trade EV: -9184.271855\n",
      "\n",
      "\n",
      "Start: 2022-02-07 04:08:53.986141\n",
      "0:00:06.077917\n",
      "*****************************\n",
      "ETH_BTC 10s Stragety\n",
      "*****************************\n",
      "Long positions: 416\n",
      "Short positions: 378\n",
      "Total Positions: 794\n",
      "Predicted Trade EV: -0.021172\n",
      "\n",
      "\n",
      "Start: 2022-02-07 04:09:00.103971\n",
      "0:00:50.884193\n",
      "*****************************\n",
      "ETH_USD 10s Stragety\n",
      "*****************************\n",
      "Long positions: 129136\n",
      "Short positions: 64505\n",
      "Total Positions: 193641\n",
      "Predicted Trade EV: -1160.733069\n",
      "\n",
      "\n"
     ]
    }
   ],
   "source": [
    "# trade(test_BTC_USD,BTC_USD_1s_beta,1,.000025, 'BTC_USD 1s Stragety')\n",
    "trade(test_ETH_BTC,ETH_BTC_1s_beta,1,.000025, 'ETH_BTC 1s Stragety')\n",
    "trade(test_ETH_USD,ETH_USD_1s_beta,1,.000025, 'ETH_USD 1s Stragety')\n",
    "\n",
    "# trade(test_BTC_USD,BTC_USD_5s_beta,5,.000025, 'BTC_USD 5s Stragety')\n",
    "trade(test_ETH_BTC,ETH_BTC_5s_beta,5,.000025, 'ETH_BTC 5s Stragety')\n",
    "trade(test_ETH_USD,ETH_USD_5s_beta,5,.000025, 'ETH_USD 5s Stragety')\n",
    "\n",
    "# trade(test_BTC_USD,BTC_USD_10s_beta,10,.000025, 'BTC_USD 10s Stragety')\n",
    "trade(test_ETH_BTC,ETH_BTC_10s_beta,10,.000025, 'ETH_BTC 10s Stragety')\n",
    "trade(test_ETH_USD,ETH_USD_10s_beta,10,.000025, 'ETH_USD 10s Stragety')"
   ]
  },
  {
   "cell_type": "code",
   "execution_count": null,
   "metadata": {},
   "outputs": [],
   "source": []
  },
  {
   "cell_type": "code",
   "execution_count": null,
   "metadata": {},
   "outputs": [],
   "source": []
  }
 ],
 "metadata": {
  "kernelspec": {
   "display_name": "Python 3 (ipykernel)",
   "language": "python",
   "name": "python3"
  },
  "language_info": {
   "codemirror_mode": {
    "name": "ipython",
    "version": 3
   },
   "file_extension": ".py",
   "mimetype": "text/x-python",
   "name": "python",
   "nbconvert_exporter": "python",
   "pygments_lexer": "ipython3",
   "version": "3.9.7"
  }
 },
 "nbformat": 4,
 "nbformat_minor": 4
}
